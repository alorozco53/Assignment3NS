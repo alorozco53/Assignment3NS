{
 "cells": [
  {
   "cell_type": "markdown",
   "metadata": {
    "colab_type": "text",
    "id": "Pqs60FiBiidn"
   },
   "source": [
    "# Assignment 3\n",
    "**Network Science**\n",
    "\n",
    "_Prof Reihaneh Rabbany_\n",
    "\n",
    "Author: Albert M Orozco Camacho\n"
   ]
  },
  {
   "cell_type": "markdown",
   "metadata": {
    "colab_type": "text",
    "id": "bW1X8L9LjHOG"
   },
   "source": [
    "# Data Processing"
   ]
  },
  {
   "cell_type": "code",
   "execution_count": 1,
   "metadata": {
    "colab": {},
    "colab_type": "code",
    "id": "ZzJphJss9q07"
   },
   "outputs": [],
   "source": [
    "%matplotlib inline\n",
    "\n",
    "import os\n",
    "import codecs\n",
    "import networkx as nx\n",
    "import matplotlib.pyplot as plt"
   ]
  },
  {
   "cell_type": "markdown",
   "metadata": {},
   "source": [
    "## Load Graphs"
   ]
  },
  {
   "cell_type": "code",
   "execution_count": 2,
   "metadata": {},
   "outputs": [],
   "source": [
    "# Football\n",
    "football_path = 'data/real-classic/football.gml'\n",
    "with codecs.open(football_path, 'r') as f:\n",
    "    football_raw = f.readlines()\n",
    "football_raw[3] = 'multigraph 1\\n'\n",
    "football_graph = nx.parse_gml(football_raw, label='id')\n",
    "football_graph = nx.Graph(football_graph)\n",
    "football_graph.remove_edges_from(football_graph.selfloop_edges())\n",
    "\n",
    "# Karate\n",
    "karate_path = 'data/karate.gml'\n",
    "karate_graph = nx.read_gml(karate_path, label='id')\n",
    "karate_graph = nx.Graph(karate_graph)\n",
    "karate_graph.remove_edges_from(karate_graph.selfloop_edges())\n",
    "\n",
    "# Political blogosphere\n",
    "polblogs_path = 'data/real-classic/polblogs.gml'\n",
    "with codecs.open(polblogs_path, 'r') as f:\n",
    "    polblogs_raw = f.readlines()\n",
    "polblogs_raw[2] = 'multigraph 1\\n'\n",
    "polblogs_graph = nx.parse_gml(polblogs_raw, label='id')\n",
    "polblogs_graph = nx.Graph(polblogs_graph)\n",
    "polblogs_graph.remove_edges_from(polblogs_graph.selfloop_edges())\n",
    "\n",
    "# Political books\n",
    "polbooks_path = 'data/real-classic/polbooks.gml'\n",
    "polbooks_graph = nx.read_gml(polbooks_path, label='id')\n",
    "polbooks_graph = nx.Graph(polbooks_graph)\n",
    "polbooks_graph.remove_edges_from(polbooks_graph.selfloop_edges())\n",
    "\n",
    "# Strike\n",
    "strike_path = 'data/real-classic/strike.gml'\n",
    "strike_graph = nx.read_gml(strike_path, label='id')\n",
    "strike_graph = nx.Graph(strike_graph)\n",
    "strike_graph.remove_edges_from(strike_graph.selfloop_edges())"
   ]
  },
  {
   "cell_type": "markdown",
   "metadata": {},
   "source": [
    "# Apply Algorithms"
   ]
  },
  {
   "cell_type": "code",
   "execution_count": 8,
   "metadata": {
    "colab": {},
    "colab_type": "code",
    "id": "ZMQw8CCzNfXb"
   },
   "outputs": [],
   "source": [
    "import os\n",
    "import codecs\n",
    "import igraph as ig\n",
    "import numpy as np\n",
    "import networkx as nx\n",
    "import pandas as pd\n",
    "import matplotlib.pyplot as plt\n",
    "\n",
    "from tqdm import tqdm\n",
    "from sklearn.metrics import accuracy_score\n",
    "from sklearn.metrics import roc_auc_score"
   ]
  },
  {
   "cell_type": "code",
   "execution_count": 9,
   "metadata": {
    "colab": {},
    "colab_type": "code",
    "id": "bmZQ1Cf9l50f"
   },
   "outputs": [],
   "source": [
    "def apply_evaluate(graph_,\n",
    "                   label_name='value',\n",
    "                   delete_range=range(95, 15, -10),\n",
    "                   runs=10, save=False):\n",
    "    y_true = [n[label_name] for _, n in graph_.nodes(data=True)]\n",
    "    results = pd.DataFrame({'run': [], 'deleted_nodes': [], 'harmnc': [], 'lgcnc': []})\n",
    "    mean_results = pd.DataFrame({'run': [], 'harmnc_avg': [], 'lgcnc_avg': []})\n",
    "    \n",
    "    for run in range(runs):\n",
    "        for offset in delete_range:\n",
    "            # Delete % of nodes values to predict\n",
    "            graph = graph_.copy()\n",
    "            nodes = graph.nodes(data=True)\n",
    "            for _, node in nodes:\n",
    "                if np.random.rand() > offset / 100:\n",
    "                    del node[label_name]\n",
    "\n",
    "            # Harmonic Function\n",
    "            harm_nc = nx.algorithms.node_classification.hmn.harmonic_function(graph, label_name=label_name)\n",
    "            harm_nc_acc = accuracy_score(y_true, harm_nc)       \n",
    "    \n",
    "            # Local and Global Consistency\n",
    "            lgc_nc = nx.algorithms.node_classification.lgc.local_and_global_consistency(graph, label_name=label_name)\n",
    "            lgc_nc_acc = accuracy_score(y_true, lgc_nc)\n",
    "        \n",
    "            results = results.append({'run': run + 1,\n",
    "                                      'deleted_nodes': offset / 100,\n",
    "                                      'harmnc': harm_nc_acc,\n",
    "                                      'lgcnc': lgc_nc_acc}, ignore_index=True)\n",
    "        harmnc_avg = results.loc[run]['harmnc'].mean()\n",
    "        lgcnc_avg = results.loc[run]['lgcnc'].mean()\n",
    "        mean_results = mean_results.append({'run': run + 1,\n",
    "                                            'harmnc_avg': harmnc_avg,\n",
    "                                            'lgcnc_avg': lgcnc_avg}, ignore_index=True)\n",
    "        \n",
    "    mean_results.set_index(['run'], inplace=True)\n",
    "    ax = mean_results.plot()\n",
    "    fig = ax.get_figure()\n",
    "    if save:\n",
    "        fig.savefig(save)\n",
    "    return mean_results"
   ]
  },
  {
   "cell_type": "code",
   "execution_count": 16,
   "metadata": {
    "colab": {},
    "colab_type": "code",
    "id": "bmZQ1Cf9l50f"
   },
   "outputs": [],
   "source": [
    "def apply_evaluate_lp(graph_, runs=10, save=False):\n",
    "    results = pd.DataFrame({'run': [],\n",
    "                            'resource_allocation_index': [],\n",
    "                            'jaccard_coefficient': [],\n",
    "                            'preferential_attachment': []})\n",
    "    for run in tqdm(range(runs)):\n",
    "        # Delete 20% of edges to predict\n",
    "        graph = graph_.copy()\n",
    "        edges = list(graph.edges())\n",
    "        removed = []\n",
    "        coins = np.random.rand(len(edges)) < 0.2\n",
    "        for i, coin in enumerate(coins):\n",
    "            if coin:\n",
    "                edge = edges[i]\n",
    "                graph.remove_edge(edge[0], edge[1])\n",
    "                removed.append(edge)\n",
    "\n",
    "        # resource_allocation_index\n",
    "        rai = list(nx.resource_allocation_index(graph))\n",
    "        y_true = np.zeros(len(rai), dtype=np.int)\n",
    "        for edge in edges:\n",
    "            for i, r in enumerate(rai):\n",
    "                if edge[0] == r[0] and edge[1] == r[1] or\\\n",
    "                   edge[1] == r[0] and edge[0] == r[1]:\n",
    "                    y_true[i] = 1\n",
    "        y_pred = [yp for _, _, yp in rai]\n",
    "        rai_auc = roc_auc_score(y_true, y_pred)\n",
    "        \n",
    "        # jaccard_coefficient\n",
    "        jc = list(nx.jaccard_coefficient(graph))\n",
    "        y_true = np.zeros(len(jc), dtype=np.int)\n",
    "        for edge in edges:\n",
    "            for i, r in enumerate(jc):\n",
    "                if edge[0] == r[0] and edge[1] == r[1] or\\\n",
    "                   edge[1] == r[0] and edge[0] == r[1]:\n",
    "                    y_true[i] = 1\n",
    "        y_pred = [yp for _, _, yp in jc]\n",
    "        jc_auc = roc_auc_score(y_true, y_pred)\n",
    "        \n",
    "        # preferential_attachment\n",
    "        pa = list(nx.preferential_attachment(graph))\n",
    "        y_true = np.zeros(len(pa), dtype=np.int)\n",
    "        for edge in edges:\n",
    "            for i, r in enumerate(pa):\n",
    "                if edge[0] == r[0] and edge[1] == r[1] or\\\n",
    "                   edge[1] == r[0] and edge[0] == r[1]:\n",
    "                    y_true[i] = 1\n",
    "        y_pred = [yp for _, _, yp in pa]\n",
    "        pa_auc = roc_auc_score(y_true, y_pred)\n",
    "        \n",
    "        results = results.append({'run': run + 1,\n",
    "                                  'resource_allocation_index': rai_auc,\n",
    "                                  'jaccard_coefficient': jc_auc,\n",
    "                                  'preferential_attachment': pa_auc},\n",
    "                                 ignore_index=True)\n",
    "        \n",
    "    results.set_index(['run'], inplace=True)\n",
    "    ax = results.plot()\n",
    "    fig = ax.get_figure()\n",
    "    if save:\n",
    "        fig.savefig(save)\n",
    "    return results"
   ]
  },
  {
   "cell_type": "code",
   "execution_count": 60,
   "metadata": {},
   "outputs": [
    {
     "name": "stdout",
     "output_type": "stream",
     "text": [
      "Football\n"
     ]
    },
    {
     "data": {
      "text/html": [
       "<div>\n",
       "<style scoped>\n",
       "    .dataframe tbody tr th:only-of-type {\n",
       "        vertical-align: middle;\n",
       "    }\n",
       "\n",
       "    .dataframe tbody tr th {\n",
       "        vertical-align: top;\n",
       "    }\n",
       "\n",
       "    .dataframe thead th {\n",
       "        text-align: right;\n",
       "    }\n",
       "</style>\n",
       "<table border=\"1\" class=\"dataframe\">\n",
       "  <thead>\n",
       "    <tr style=\"text-align: right;\">\n",
       "      <th></th>\n",
       "      <th>harmnc_avg</th>\n",
       "      <th>lgcnc_avg</th>\n",
       "    </tr>\n",
       "    <tr>\n",
       "      <th>run</th>\n",
       "      <th></th>\n",
       "      <th></th>\n",
       "    </tr>\n",
       "  </thead>\n",
       "  <tbody>\n",
       "    <tr>\n",
       "      <td>1.0</td>\n",
       "      <td>0.973913</td>\n",
       "      <td>0.895652</td>\n",
       "    </tr>\n",
       "    <tr>\n",
       "      <td>2.0</td>\n",
       "      <td>0.947826</td>\n",
       "      <td>0.886957</td>\n",
       "    </tr>\n",
       "    <tr>\n",
       "      <td>3.0</td>\n",
       "      <td>0.956522</td>\n",
       "      <td>0.886957</td>\n",
       "    </tr>\n",
       "    <tr>\n",
       "      <td>4.0</td>\n",
       "      <td>0.973913</td>\n",
       "      <td>0.886957</td>\n",
       "    </tr>\n",
       "    <tr>\n",
       "      <td>5.0</td>\n",
       "      <td>0.965217</td>\n",
       "      <td>0.826087</td>\n",
       "    </tr>\n",
       "    <tr>\n",
       "      <td>6.0</td>\n",
       "      <td>0.921739</td>\n",
       "      <td>0.817391</td>\n",
       "    </tr>\n",
       "    <tr>\n",
       "      <td>7.0</td>\n",
       "      <td>0.921739</td>\n",
       "      <td>0.721739</td>\n",
       "    </tr>\n",
       "    <tr>\n",
       "      <td>8.0</td>\n",
       "      <td>0.930435</td>\n",
       "      <td>0.878261</td>\n",
       "    </tr>\n",
       "    <tr>\n",
       "      <td>9.0</td>\n",
       "      <td>0.991304</td>\n",
       "      <td>0.913043</td>\n",
       "    </tr>\n",
       "    <tr>\n",
       "      <td>10.0</td>\n",
       "      <td>1.000000</td>\n",
       "      <td>0.913043</td>\n",
       "    </tr>\n",
       "  </tbody>\n",
       "</table>\n",
       "</div>"
      ],
      "text/plain": [
       "      harmnc_avg  lgcnc_avg\n",
       "run                        \n",
       "1.0     0.973913   0.895652\n",
       "2.0     0.947826   0.886957\n",
       "3.0     0.956522   0.886957\n",
       "4.0     0.973913   0.886957\n",
       "5.0     0.965217   0.826087\n",
       "6.0     0.921739   0.817391\n",
       "7.0     0.921739   0.721739\n",
       "8.0     0.930435   0.878261\n",
       "9.0     0.991304   0.913043\n",
       "10.0    1.000000   0.913043"
      ]
     },
     "execution_count": 60,
     "metadata": {},
     "output_type": "execute_result"
    },
    {
     "data": {
      "image/png": "[encoded data removed]",
      "text/plain": [
       "<Figure size 432x288 with 1 Axes>"
      ]
     },
     "metadata": {
      "needs_background": "light"
     },
     "output_type": "display_data"
    }
   ],
   "source": [
    "# Football\n",
    "print('Football')\n",
    "apply_evaluate(football_graph, save='football.png')"
   ]
  },
  {
   "cell_type": "code",
   "execution_count": 31,
   "metadata": {},
   "outputs": [
    {
     "name": "stdout",
     "output_type": "stream",
     "text": [
      "Football\n"
     ]
    },
    {
     "data": {
      "text/plain": [
       "resource_allocation_index    0.824434\n",
       "jaccard_coefficient          0.834562\n",
       "preferential_attachment      0.319638\n",
       "dtype: float64"
      ]
     },
     "execution_count": 31,
     "metadata": {},
     "output_type": "execute_result"
    },
    {
     "data": {
      "image/png": "[encoded data removed]",
      "text/plain": [
       "<Figure size 432x288 with 1 Axes>"
      ]
     },
     "metadata": {
      "needs_background": "light"
     },
     "output_type": "display_data"
    }
   ],
   "source": [
    "# Football\n",
    "print('Football')\n",
    "apply_evaluate_lp(football_graph, save='football-lp.png').mean()"
   ]
  },
  {
   "cell_type": "code",
   "execution_count": 61,
   "metadata": {},
   "outputs": [
    {
     "name": "stdout",
     "output_type": "stream",
     "text": [
      "Karate\n"
     ]
    },
    {
     "data": {
      "text/html": [
       "<div>\n",
       "<style scoped>\n",
       "    .dataframe tbody tr th:only-of-type {\n",
       "        vertical-align: middle;\n",
       "    }\n",
       "\n",
       "    .dataframe tbody tr th {\n",
       "        vertical-align: top;\n",
       "    }\n",
       "\n",
       "    .dataframe thead th {\n",
       "        text-align: right;\n",
       "    }\n",
       "</style>\n",
       "<table border=\"1\" class=\"dataframe\">\n",
       "  <thead>\n",
       "    <tr style=\"text-align: right;\">\n",
       "      <th></th>\n",
       "      <th>harmnc_avg</th>\n",
       "      <th>lgcnc_avg</th>\n",
       "    </tr>\n",
       "    <tr>\n",
       "      <th>run</th>\n",
       "      <th></th>\n",
       "      <th></th>\n",
       "    </tr>\n",
       "  </thead>\n",
       "  <tbody>\n",
       "    <tr>\n",
       "      <td>1.0</td>\n",
       "      <td>1.000000</td>\n",
       "      <td>0.970588</td>\n",
       "    </tr>\n",
       "    <tr>\n",
       "      <td>2.0</td>\n",
       "      <td>1.000000</td>\n",
       "      <td>0.970588</td>\n",
       "    </tr>\n",
       "    <tr>\n",
       "      <td>3.0</td>\n",
       "      <td>1.000000</td>\n",
       "      <td>0.970588</td>\n",
       "    </tr>\n",
       "    <tr>\n",
       "      <td>4.0</td>\n",
       "      <td>1.000000</td>\n",
       "      <td>1.000000</td>\n",
       "    </tr>\n",
       "    <tr>\n",
       "      <td>5.0</td>\n",
       "      <td>0.970588</td>\n",
       "      <td>0.882353</td>\n",
       "    </tr>\n",
       "    <tr>\n",
       "      <td>6.0</td>\n",
       "      <td>0.911765</td>\n",
       "      <td>0.617647</td>\n",
       "    </tr>\n",
       "    <tr>\n",
       "      <td>7.0</td>\n",
       "      <td>0.970588</td>\n",
       "      <td>1.000000</td>\n",
       "    </tr>\n",
       "    <tr>\n",
       "      <td>8.0</td>\n",
       "      <td>0.970588</td>\n",
       "      <td>1.000000</td>\n",
       "    </tr>\n",
       "    <tr>\n",
       "      <td>9.0</td>\n",
       "      <td>1.000000</td>\n",
       "      <td>1.000000</td>\n",
       "    </tr>\n",
       "    <tr>\n",
       "      <td>10.0</td>\n",
       "      <td>1.000000</td>\n",
       "      <td>0.970588</td>\n",
       "    </tr>\n",
       "  </tbody>\n",
       "</table>\n",
       "</div>"
      ],
      "text/plain": [
       "      harmnc_avg  lgcnc_avg\n",
       "run                        \n",
       "1.0     1.000000   0.970588\n",
       "2.0     1.000000   0.970588\n",
       "3.0     1.000000   0.970588\n",
       "4.0     1.000000   1.000000\n",
       "5.0     0.970588   0.882353\n",
       "6.0     0.911765   0.617647\n",
       "7.0     0.970588   1.000000\n",
       "8.0     0.970588   1.000000\n",
       "9.0     1.000000   1.000000\n",
       "10.0    1.000000   0.970588"
      ]
     },
     "execution_count": 61,
     "metadata": {},
     "output_type": "execute_result"
    },
    {
     "data": {
      "image/png": "[encoded data removed]",
      "text/plain": [
       "<Figure size 432x288 with 1 Axes>"
      ]
     },
     "metadata": {
      "needs_background": "light"
     },
     "output_type": "display_data"
    }
   ],
   "source": [
    "# Karate\n",
    "print('Karate')\n",
    "apply_evaluate(karate_graph, save='karate.png')"
   ]
  },
  {
   "cell_type": "code",
   "execution_count": 32,
   "metadata": {},
   "outputs": [
    {
     "name": "stdout",
     "output_type": "stream",
     "text": [
      "Karate\n"
     ]
    },
    {
     "data": {
      "text/plain": [
       "resource_allocation_index    0.710052\n",
       "jaccard_coefficient          0.610875\n",
       "preferential_attachment      0.702046\n",
       "dtype: float64"
      ]
     },
     "execution_count": 32,
     "metadata": {},
     "output_type": "execute_result"
    },
    {
     "data": {
      "image/png": "[encoded data removed]",
      "text/plain": [
       "<Figure size 432x288 with 1 Axes>"
      ]
     },
     "metadata": {
      "needs_background": "light"
     },
     "output_type": "display_data"
    }
   ],
   "source": [
    "# Karate\n",
    "print('Karate')\n",
    "apply_evaluate_lp(karate_graph, save='karate-lp.png').mean()"
   ]
  },
  {
   "cell_type": "code",
   "execution_count": 62,
   "metadata": {},
   "outputs": [
    {
     "name": "stdout",
     "output_type": "stream",
     "text": [
      "Polblogs\n"
     ]
    },
    {
     "data": {
      "text/html": [
       "<div>\n",
       "<style scoped>\n",
       "    .dataframe tbody tr th:only-of-type {\n",
       "        vertical-align: middle;\n",
       "    }\n",
       "\n",
       "    .dataframe tbody tr th {\n",
       "        vertical-align: top;\n",
       "    }\n",
       "\n",
       "    .dataframe thead th {\n",
       "        text-align: right;\n",
       "    }\n",
       "</style>\n",
       "<table border=\"1\" class=\"dataframe\">\n",
       "  <thead>\n",
       "    <tr style=\"text-align: right;\">\n",
       "      <th></th>\n",
       "      <th>harmnc_avg</th>\n",
       "      <th>lgcnc_avg</th>\n",
       "    </tr>\n",
       "    <tr>\n",
       "      <th>run</th>\n",
       "      <th></th>\n",
       "      <th></th>\n",
       "    </tr>\n",
       "  </thead>\n",
       "  <tbody>\n",
       "    <tr>\n",
       "      <td>1.0</td>\n",
       "      <td>0.995973</td>\n",
       "      <td>0.975168</td>\n",
       "    </tr>\n",
       "    <tr>\n",
       "      <td>2.0</td>\n",
       "      <td>0.987919</td>\n",
       "      <td>0.969799</td>\n",
       "    </tr>\n",
       "    <tr>\n",
       "      <td>3.0</td>\n",
       "      <td>0.973154</td>\n",
       "      <td>0.959060</td>\n",
       "    </tr>\n",
       "    <tr>\n",
       "      <td>4.0</td>\n",
       "      <td>0.965772</td>\n",
       "      <td>0.954362</td>\n",
       "    </tr>\n",
       "    <tr>\n",
       "      <td>5.0</td>\n",
       "      <td>0.957047</td>\n",
       "      <td>0.951007</td>\n",
       "    </tr>\n",
       "    <tr>\n",
       "      <td>6.0</td>\n",
       "      <td>0.942953</td>\n",
       "      <td>0.934899</td>\n",
       "    </tr>\n",
       "    <tr>\n",
       "      <td>7.0</td>\n",
       "      <td>0.936242</td>\n",
       "      <td>0.930872</td>\n",
       "    </tr>\n",
       "    <tr>\n",
       "      <td>8.0</td>\n",
       "      <td>0.918792</td>\n",
       "      <td>0.916779</td>\n",
       "    </tr>\n",
       "    <tr>\n",
       "      <td>9.0</td>\n",
       "      <td>0.993960</td>\n",
       "      <td>0.972483</td>\n",
       "    </tr>\n",
       "    <tr>\n",
       "      <td>10.0</td>\n",
       "      <td>0.982550</td>\n",
       "      <td>0.962416</td>\n",
       "    </tr>\n",
       "  </tbody>\n",
       "</table>\n",
       "</div>"
      ],
      "text/plain": [
       "      harmnc_avg  lgcnc_avg\n",
       "run                        \n",
       "1.0     0.995973   0.975168\n",
       "2.0     0.987919   0.969799\n",
       "3.0     0.973154   0.959060\n",
       "4.0     0.965772   0.954362\n",
       "5.0     0.957047   0.951007\n",
       "6.0     0.942953   0.934899\n",
       "7.0     0.936242   0.930872\n",
       "8.0     0.918792   0.916779\n",
       "9.0     0.993960   0.972483\n",
       "10.0    0.982550   0.962416"
      ]
     },
     "execution_count": 62,
     "metadata": {},
     "output_type": "execute_result"
    },
    {
     "data": {
      "image/png": "[encoded data removed]",
      "text/plain": [
       "<Figure size 432x288 with 1 Axes>"
      ]
     },
     "metadata": {
      "needs_background": "light"
     },
     "output_type": "display_data"
    }
   ],
   "source": [
    "# Polblogs\n",
    "print('Polblogs')\n",
    "apply_evaluate(polblogs_graph, save='polblogs.png')"
   ]
  },
  {
   "cell_type": "code",
   "execution_count": 13,
   "metadata": {},
   "outputs": [
    {
     "name": "stderr",
     "output_type": "stream",
     "text": [
      "  0%|          | 0/10 [00:00<?, ?it/s]"
     ]
    },
    {
     "name": "stdout",
     "output_type": "stream",
     "text": [
      "Polblogs\n"
     ]
    },
    {
     "ename": "KeyboardInterrupt",
     "evalue": "",
     "output_type": "error",
     "traceback": [
      "\u001b[0;31m---------------------------------------------------------------------------\u001b[0m",
      "\u001b[0;31mKeyboardInterrupt\u001b[0m                         Traceback (most recent call last)",
      "\u001b[0;32m<ipython-input-13-295c13e0b2f7>\u001b[0m in \u001b[0;36m<module>\u001b[0;34m\u001b[0m\n\u001b[1;32m      1\u001b[0m \u001b[0;31m# Polblogs\u001b[0m\u001b[0;34m\u001b[0m\u001b[0;34m\u001b[0m\u001b[0;34m\u001b[0m\u001b[0m\n\u001b[1;32m      2\u001b[0m \u001b[0mprint\u001b[0m\u001b[0;34m(\u001b[0m\u001b[0;34m'Polblogs'\u001b[0m\u001b[0;34m)\u001b[0m\u001b[0;34m\u001b[0m\u001b[0;34m\u001b[0m\u001b[0m\n\u001b[0;32m----> 3\u001b[0;31m \u001b[0mapply_evaluate_lp\u001b[0m\u001b[0;34m(\u001b[0m\u001b[0mpolblogs_graph\u001b[0m\u001b[0;34m,\u001b[0m \u001b[0msave\u001b[0m\u001b[0;34m=\u001b[0m\u001b[0;34m'polblogs-lp.png'\u001b[0m\u001b[0;34m)\u001b[0m\u001b[0;34m.\u001b[0m\u001b[0mmean\u001b[0m\u001b[0;34m(\u001b[0m\u001b[0;34m)\u001b[0m\u001b[0;34m\u001b[0m\u001b[0;34m\u001b[0m\u001b[0m\n\u001b[0m",
      "\u001b[0;32m<ipython-input-12-0794e94b2701>\u001b[0m in \u001b[0;36mapply_evaluate_lp\u001b[0;34m(graph_, runs, save)\u001b[0m\n\u001b[1;32m     22\u001b[0m             \u001b[0;32mfor\u001b[0m \u001b[0mi\u001b[0m\u001b[0;34m,\u001b[0m \u001b[0mr\u001b[0m \u001b[0;32min\u001b[0m \u001b[0menumerate\u001b[0m\u001b[0;34m(\u001b[0m\u001b[0mrai\u001b[0m\u001b[0;34m)\u001b[0m\u001b[0;34m:\u001b[0m\u001b[0;34m\u001b[0m\u001b[0;34m\u001b[0m\u001b[0m\n\u001b[1;32m     23\u001b[0m                 \u001b[0;32mif\u001b[0m \u001b[0medge\u001b[0m\u001b[0;34m[\u001b[0m\u001b[0;36m0\u001b[0m\u001b[0;34m]\u001b[0m \u001b[0;34m==\u001b[0m \u001b[0mr\u001b[0m\u001b[0;34m[\u001b[0m\u001b[0;36m0\u001b[0m\u001b[0;34m]\u001b[0m \u001b[0;32mand\u001b[0m \u001b[0medge\u001b[0m\u001b[0;34m[\u001b[0m\u001b[0;36m1\u001b[0m\u001b[0;34m]\u001b[0m \u001b[0;34m==\u001b[0m \u001b[0mr\u001b[0m\u001b[0;34m[\u001b[0m\u001b[0;36m1\u001b[0m\u001b[0;34m]\u001b[0m \u001b[0;32mor\u001b[0m\u001b[0;31m\\\u001b[0m\u001b[0;34m\u001b[0m\u001b[0;34m\u001b[0m\u001b[0m\n\u001b[0;32m---> 24\u001b[0;31m                    \u001b[0medge\u001b[0m\u001b[0;34m[\u001b[0m\u001b[0;36m1\u001b[0m\u001b[0;34m]\u001b[0m \u001b[0;34m==\u001b[0m \u001b[0mr\u001b[0m\u001b[0;34m[\u001b[0m\u001b[0;36m0\u001b[0m\u001b[0;34m]\u001b[0m \u001b[0;32mand\u001b[0m \u001b[0medge\u001b[0m\u001b[0;34m[\u001b[0m\u001b[0;36m0\u001b[0m\u001b[0;34m]\u001b[0m \u001b[0;34m==\u001b[0m \u001b[0mr\u001b[0m\u001b[0;34m[\u001b[0m\u001b[0;36m1\u001b[0m\u001b[0;34m]\u001b[0m\u001b[0;34m:\u001b[0m\u001b[0;34m\u001b[0m\u001b[0;34m\u001b[0m\u001b[0m\n\u001b[0m\u001b[1;32m     25\u001b[0m                     \u001b[0my_true\u001b[0m\u001b[0;34m[\u001b[0m\u001b[0mi\u001b[0m\u001b[0;34m]\u001b[0m \u001b[0;34m=\u001b[0m \u001b[0;36m1\u001b[0m\u001b[0;34m\u001b[0m\u001b[0;34m\u001b[0m\u001b[0m\n\u001b[1;32m     26\u001b[0m         \u001b[0my_pred\u001b[0m \u001b[0;34m=\u001b[0m \u001b[0;34m[\u001b[0m\u001b[0myp\u001b[0m \u001b[0;32mfor\u001b[0m \u001b[0m_\u001b[0m\u001b[0;34m,\u001b[0m \u001b[0m_\u001b[0m\u001b[0;34m,\u001b[0m \u001b[0myp\u001b[0m \u001b[0;32min\u001b[0m \u001b[0mrai\u001b[0m\u001b[0;34m]\u001b[0m\u001b[0;34m\u001b[0m\u001b[0;34m\u001b[0m\u001b[0m\n",
      "\u001b[0;31mKeyboardInterrupt\u001b[0m: "
     ]
    }
   ],
   "source": [
    "# Polblogs\n",
    "print('Polblogs')\n",
    "apply_evaluate_lp(polblogs_graph, save='polblogs-lp.png').mean()"
   ]
  },
  {
   "cell_type": "code",
   "execution_count": 63,
   "metadata": {},
   "outputs": [
    {
     "name": "stdout",
     "output_type": "stream",
     "text": [
      "Polbooks\n"
     ]
    },
    {
     "data": {
      "text/html": [
       "<div>\n",
       "<style scoped>\n",
       "    .dataframe tbody tr th:only-of-type {\n",
       "        vertical-align: middle;\n",
       "    }\n",
       "\n",
       "    .dataframe tbody tr th {\n",
       "        vertical-align: top;\n",
       "    }\n",
       "\n",
       "    .dataframe thead th {\n",
       "        text-align: right;\n",
       "    }\n",
       "</style>\n",
       "<table border=\"1\" class=\"dataframe\">\n",
       "  <thead>\n",
       "    <tr style=\"text-align: right;\">\n",
       "      <th></th>\n",
       "      <th>harmnc_avg</th>\n",
       "      <th>lgcnc_avg</th>\n",
       "    </tr>\n",
       "    <tr>\n",
       "      <th>run</th>\n",
       "      <th></th>\n",
       "      <th></th>\n",
       "    </tr>\n",
       "  </thead>\n",
       "  <tbody>\n",
       "    <tr>\n",
       "      <td>1.0</td>\n",
       "      <td>0.980952</td>\n",
       "      <td>0.866667</td>\n",
       "    </tr>\n",
       "    <tr>\n",
       "      <td>2.0</td>\n",
       "      <td>0.952381</td>\n",
       "      <td>0.866667</td>\n",
       "    </tr>\n",
       "    <tr>\n",
       "      <td>3.0</td>\n",
       "      <td>0.961905</td>\n",
       "      <td>0.866667</td>\n",
       "    </tr>\n",
       "    <tr>\n",
       "      <td>4.0</td>\n",
       "      <td>0.942857</td>\n",
       "      <td>0.857143</td>\n",
       "    </tr>\n",
       "    <tr>\n",
       "      <td>5.0</td>\n",
       "      <td>0.914286</td>\n",
       "      <td>0.876190</td>\n",
       "    </tr>\n",
       "    <tr>\n",
       "      <td>6.0</td>\n",
       "      <td>0.933333</td>\n",
       "      <td>0.857143</td>\n",
       "    </tr>\n",
       "    <tr>\n",
       "      <td>7.0</td>\n",
       "      <td>0.904762</td>\n",
       "      <td>0.895238</td>\n",
       "    </tr>\n",
       "    <tr>\n",
       "      <td>8.0</td>\n",
       "      <td>0.866667</td>\n",
       "      <td>0.866667</td>\n",
       "    </tr>\n",
       "    <tr>\n",
       "      <td>9.0</td>\n",
       "      <td>1.000000</td>\n",
       "      <td>0.866667</td>\n",
       "    </tr>\n",
       "    <tr>\n",
       "      <td>10.0</td>\n",
       "      <td>1.000000</td>\n",
       "      <td>0.866667</td>\n",
       "    </tr>\n",
       "  </tbody>\n",
       "</table>\n",
       "</div>"
      ],
      "text/plain": [
       "      harmnc_avg  lgcnc_avg\n",
       "run                        \n",
       "1.0     0.980952   0.866667\n",
       "2.0     0.952381   0.866667\n",
       "3.0     0.961905   0.866667\n",
       "4.0     0.942857   0.857143\n",
       "5.0     0.914286   0.876190\n",
       "6.0     0.933333   0.857143\n",
       "7.0     0.904762   0.895238\n",
       "8.0     0.866667   0.866667\n",
       "9.0     1.000000   0.866667\n",
       "10.0    1.000000   0.866667"
      ]
     },
     "execution_count": 63,
     "metadata": {},
     "output_type": "execute_result"
    },
    {
     "data": {
      "image/png": "[encoded data removed]",
      "text/plain": [
       "<Figure size 432x288 with 1 Axes>"
      ]
     },
     "metadata": {
      "needs_background": "light"
     },
     "output_type": "display_data"
    }
   ],
   "source": [
    "# Polbooks\n",
    "print('Polbooks')\n",
    "apply_evaluate(polbooks_graph, save='polbooks.png')"
   ]
  },
  {
   "cell_type": "code",
   "execution_count": 35,
   "metadata": {},
   "outputs": [
    {
     "name": "stdout",
     "output_type": "stream",
     "text": [
      "Polbooks\n"
     ]
    },
    {
     "data": {
      "text/plain": [
       "resource_allocation_index    0.872320\n",
       "jaccard_coefficient          0.851827\n",
       "preferential_attachment      0.662515\n",
       "dtype: float64"
      ]
     },
     "execution_count": 35,
     "metadata": {},
     "output_type": "execute_result"
    },
    {
     "data": {
      "image/png": "[encoded data removed]",
      "text/plain": [
       "<Figure size 432x288 with 1 Axes>"
      ]
     },
     "metadata": {
      "needs_background": "light"
     },
     "output_type": "display_data"
    }
   ],
   "source": [
    "# Polbooks\n",
    "print('Polbooks')\n",
    "apply_evaluate_lp(polbooks_graph, save='polbooks-lp.png').mean()"
   ]
  },
  {
   "cell_type": "code",
   "execution_count": 64,
   "metadata": {},
   "outputs": [
    {
     "name": "stdout",
     "output_type": "stream",
     "text": [
      "Strike\n"
     ]
    },
    {
     "data": {
      "text/html": [
       "<div>\n",
       "<style scoped>\n",
       "    .dataframe tbody tr th:only-of-type {\n",
       "        vertical-align: middle;\n",
       "    }\n",
       "\n",
       "    .dataframe tbody tr th {\n",
       "        vertical-align: top;\n",
       "    }\n",
       "\n",
       "    .dataframe thead th {\n",
       "        text-align: right;\n",
       "    }\n",
       "</style>\n",
       "<table border=\"1\" class=\"dataframe\">\n",
       "  <thead>\n",
       "    <tr style=\"text-align: right;\">\n",
       "      <th></th>\n",
       "      <th>harmnc_avg</th>\n",
       "      <th>lgcnc_avg</th>\n",
       "    </tr>\n",
       "    <tr>\n",
       "      <th>run</th>\n",
       "      <th></th>\n",
       "      <th></th>\n",
       "    </tr>\n",
       "  </thead>\n",
       "  <tbody>\n",
       "    <tr>\n",
       "      <td>1.0</td>\n",
       "      <td>1.000000</td>\n",
       "      <td>1.000000</td>\n",
       "    </tr>\n",
       "    <tr>\n",
       "      <td>2.0</td>\n",
       "      <td>1.000000</td>\n",
       "      <td>1.000000</td>\n",
       "    </tr>\n",
       "    <tr>\n",
       "      <td>3.0</td>\n",
       "      <td>1.000000</td>\n",
       "      <td>1.000000</td>\n",
       "    </tr>\n",
       "    <tr>\n",
       "      <td>4.0</td>\n",
       "      <td>1.000000</td>\n",
       "      <td>0.916667</td>\n",
       "    </tr>\n",
       "    <tr>\n",
       "      <td>5.0</td>\n",
       "      <td>1.000000</td>\n",
       "      <td>1.000000</td>\n",
       "    </tr>\n",
       "    <tr>\n",
       "      <td>6.0</td>\n",
       "      <td>0.958333</td>\n",
       "      <td>0.916667</td>\n",
       "    </tr>\n",
       "    <tr>\n",
       "      <td>7.0</td>\n",
       "      <td>0.958333</td>\n",
       "      <td>0.875000</td>\n",
       "    </tr>\n",
       "    <tr>\n",
       "      <td>8.0</td>\n",
       "      <td>0.791667</td>\n",
       "      <td>0.791667</td>\n",
       "    </tr>\n",
       "    <tr>\n",
       "      <td>9.0</td>\n",
       "      <td>1.000000</td>\n",
       "      <td>1.000000</td>\n",
       "    </tr>\n",
       "    <tr>\n",
       "      <td>10.0</td>\n",
       "      <td>1.000000</td>\n",
       "      <td>1.000000</td>\n",
       "    </tr>\n",
       "  </tbody>\n",
       "</table>\n",
       "</div>"
      ],
      "text/plain": [
       "      harmnc_avg  lgcnc_avg\n",
       "run                        \n",
       "1.0     1.000000   1.000000\n",
       "2.0     1.000000   1.000000\n",
       "3.0     1.000000   1.000000\n",
       "4.0     1.000000   0.916667\n",
       "5.0     1.000000   1.000000\n",
       "6.0     0.958333   0.916667\n",
       "7.0     0.958333   0.875000\n",
       "8.0     0.791667   0.791667\n",
       "9.0     1.000000   1.000000\n",
       "10.0    1.000000   1.000000"
      ]
     },
     "execution_count": 64,
     "metadata": {},
     "output_type": "execute_result"
    },
    {
     "data": {
      "image/png": "[encoded data removed]",
      "text/plain": [
       "<Figure size 432x288 with 1 Axes>"
      ]
     },
     "metadata": {
      "needs_background": "light"
     },
     "output_type": "display_data"
    }
   ],
   "source": [
    "# Strike\n",
    "print('Strike')\n",
    "apply_evaluate(strike_graph, save='strike.png')"
   ]
  },
  {
   "cell_type": "code",
   "execution_count": 17,
   "metadata": {},
   "outputs": [
    {
     "name": "stderr",
     "output_type": "stream",
     "text": [
      "\n",
      "  0%|          | 0/10 [00:00<?, ?it/s]\u001b[A\n",
      "100%|██████████| 10/10 [00:00<00:00, 79.09it/s][A"
     ]
    },
    {
     "name": "stdout",
     "output_type": "stream",
     "text": [
      "Strike\n"
     ]
    },
    {
     "name": "stderr",
     "output_type": "stream",
     "text": [
      "\n"
     ]
    },
    {
     "data": {
      "text/plain": [
       "resource_allocation_index    0.711585\n",
       "jaccard_coefficient          0.714383\n",
       "preferential_attachment      0.425176\n",
       "dtype: float64"
      ]
     },
     "execution_count": 17,
     "metadata": {},
     "output_type": "execute_result"
    },
    {
     "data": {
      "image/png": "[encoded data removed]",
      "text/plain": [
       "<Figure size 432x288 with 1 Axes>"
      ]
     },
     "metadata": {
      "needs_background": "light"
     },
     "output_type": "display_data"
    }
   ],
   "source": [
    "# Strike\n",
    "print('Strike')\n",
    "apply_evaluate_lp(strike_graph, save='strike-lp.png').mean()"
   ]
  },
  {
   "cell_type": "markdown",
   "metadata": {
    "colab_type": "text",
    "id": "FUO7YhryNc9B"
   },
   "source": [
    "## Real-Node-Label"
   ]
  },
  {
   "cell_type": "code",
   "execution_count": 18,
   "metadata": {
    "colab": {},
    "colab_type": "code",
    "id": "q2BhdBQV_hsy"
   },
   "outputs": [],
   "source": [
    "import os\n",
    "import sys\n",
    "import pickle as pkl\n",
    "import numpy as np\n",
    "import scipy.sparse as sp\n",
    "\n",
    "from utils import parse_index_file, sample_mask"
   ]
  },
  {
   "cell_type": "code",
   "execution_count": 19,
   "metadata": {
    "colab": {},
    "colab_type": "code",
    "id": "44o7dLBN9-v5"
   },
   "outputs": [],
   "source": [
    "def load_data(dataset_str,\n",
    "              data_path='data/gcn'):\n",
    "    \"\"\"\n",
    "    Loads input data from gcn/data directory\n",
    "    ind.dataset_str.x => the feature vectors of the training instances as scipy.sparse.csr.csr_matrix object;\n",
    "    ind.dataset_str.tx => the feature vectors of the test instances as scipy.sparse.csr.csr_matrix object;\n",
    "    ind.dataset_str.allx => the feature vectors of both labeled and unlabeled training instances\n",
    "        (a superset of ind.dataset_str.x) as scipy.sparse.csr.csr_matrix object;\n",
    "    ind.dataset_str.y => the one-hot labels of the labeled training instances as numpy.ndarray object;\n",
    "    ind.dataset_str.ty => the one-hot labels of the test instances as numpy.ndarray object;\n",
    "    ind.dataset_str.ally => the labels for instances in ind.dataset_str.allx as numpy.ndarray object;\n",
    "    ind.dataset_str.graph => a dict in the format {index: [index_of_neighbor_nodes]} as collections.defaultdict\n",
    "        object;\n",
    "    ind.dataset_str.test.index => the indices of test instances in graph, for the inductive setting as list object.\n",
    "    All objects above must be saved using python pickle module.\n",
    "    :param dataset_str: Dataset name\n",
    "    :return: All data input files loaded (as well the training/test data).\n",
    "    Taken from https://github.com/tkipf/gcn/blob/master/gcn/utils.py#L24\n",
    "    \"\"\"\n",
    "    names = ['x', 'y', 'tx', 'ty', 'allx', 'ally', 'graph']\n",
    "    objects = []\n",
    "    for i in range(len(names)):\n",
    "        with open(os.path.join(data_path, \"ind.{}.{}\".format(dataset_str, names[i])), 'rb') as f:\n",
    "            if sys.version_info > (3, 0):\n",
    "                objects.append(pkl.load(f, encoding='latin1'))\n",
    "            else:\n",
    "                objects.append(pkl.load(f))\n",
    "\n",
    "    x, y, tx, ty, allx, ally, graph = tuple(objects)\n",
    "    test_idx_reorder = parse_index_file(os.path.join(data_path, \"ind.{}.test.index\".format(dataset_str)))\n",
    "    test_idx_range = np.sort(test_idx_reorder)\n",
    "\n",
    "    if dataset_str == 'citeseer':\n",
    "        # Fix citeseer dataset (there are some isolated nodes in the graph)\n",
    "        # Find isolated nodes, add them as zero-vecs into the right position\n",
    "        test_idx_range_full = range(min(test_idx_reorder), max(test_idx_reorder)+1)\n",
    "        tx_extended = sp.lil_matrix((len(test_idx_range_full), x.shape[1]))\n",
    "        tx_extended[test_idx_range-min(test_idx_range), :] = tx\n",
    "        tx = tx_extended\n",
    "        ty_extended = np.zeros((len(test_idx_range_full), y.shape[1]))\n",
    "        ty_extended[test_idx_range-min(test_idx_range), :] = ty\n",
    "        ty = ty_extended\n",
    "\n",
    "    features = sp.vstack((allx, tx)).tolil()\n",
    "    features[test_idx_reorder, :] = features[test_idx_range, :]\n",
    "    adj = nx.adjacency_matrix(nx.from_dict_of_lists(graph))\n",
    "\n",
    "    labels = np.vstack((ally, ty))\n",
    "    labels[test_idx_reorder, :] = labels[test_idx_range, :]\n",
    "    \n",
    "    return adj, labels"
   ]
  },
  {
   "cell_type": "markdown",
   "metadata": {
    "colab_type": "text",
    "id": "8zmtEggKON2t"
   },
   "source": [
    "### Citeseer"
   ]
  },
  {
   "cell_type": "code",
   "execution_count": 20,
   "metadata": {
    "colab": {},
    "colab_type": "code",
    "id": "MyJEtOnE-5Qp"
   },
   "outputs": [],
   "source": [
    "citeseer_adj, citeseer_y_train = load_data('citeseer')\n",
    "citeseer_adj = citeseer_adj.toarray()\n",
    "citeseer_graph = nx.from_numpy_matrix(citeseer_adj)"
   ]
  },
  {
   "cell_type": "code",
   "execution_count": 21,
   "metadata": {},
   "outputs": [],
   "source": [
    "citeseer_nodes = citeseer_graph.nodes(data=True)\n",
    "for i, y in enumerate(citeseer_y_train):\n",
    "    citeseer_nodes[i]['value'] = np.argmax(y)"
   ]
  },
  {
   "cell_type": "code",
   "execution_count": 69,
   "metadata": {},
   "outputs": [
    {
     "data": {
      "text/html": [
       "<div>\n",
       "<style scoped>\n",
       "    .dataframe tbody tr th:only-of-type {\n",
       "        vertical-align: middle;\n",
       "    }\n",
       "\n",
       "    .dataframe tbody tr th {\n",
       "        vertical-align: top;\n",
       "    }\n",
       "\n",
       "    .dataframe thead th {\n",
       "        text-align: right;\n",
       "    }\n",
       "</style>\n",
       "<table border=\"1\" class=\"dataframe\">\n",
       "  <thead>\n",
       "    <tr style=\"text-align: right;\">\n",
       "      <th></th>\n",
       "      <th>harmnc_avg</th>\n",
       "      <th>lgcnc_avg</th>\n",
       "    </tr>\n",
       "    <tr>\n",
       "      <th>run</th>\n",
       "      <th></th>\n",
       "      <th></th>\n",
       "    </tr>\n",
       "  </thead>\n",
       "  <tbody>\n",
       "    <tr>\n",
       "      <td>1.0</td>\n",
       "      <td>0.987075</td>\n",
       "      <td>0.838293</td>\n",
       "    </tr>\n",
       "    <tr>\n",
       "      <td>2.0</td>\n",
       "      <td>0.958521</td>\n",
       "      <td>0.827773</td>\n",
       "    </tr>\n",
       "    <tr>\n",
       "      <td>3.0</td>\n",
       "      <td>0.925759</td>\n",
       "      <td>0.806733</td>\n",
       "    </tr>\n",
       "    <tr>\n",
       "      <td>4.0</td>\n",
       "      <td>0.889991</td>\n",
       "      <td>0.800421</td>\n",
       "    </tr>\n",
       "    <tr>\n",
       "      <td>5.0</td>\n",
       "      <td>0.852720</td>\n",
       "      <td>0.783889</td>\n",
       "    </tr>\n",
       "    <tr>\n",
       "      <td>6.0</td>\n",
       "      <td>0.810340</td>\n",
       "      <td>0.758641</td>\n",
       "    </tr>\n",
       "    <tr>\n",
       "      <td>7.0</td>\n",
       "      <td>0.771867</td>\n",
       "      <td>0.739705</td>\n",
       "    </tr>\n",
       "    <tr>\n",
       "      <td>8.0</td>\n",
       "      <td>0.712955</td>\n",
       "      <td>0.700631</td>\n",
       "    </tr>\n",
       "    <tr>\n",
       "      <td>9.0</td>\n",
       "      <td>0.986474</td>\n",
       "      <td>0.834085</td>\n",
       "    </tr>\n",
       "    <tr>\n",
       "      <td>10.0</td>\n",
       "      <td>0.957319</td>\n",
       "      <td>0.826871</td>\n",
       "    </tr>\n",
       "  </tbody>\n",
       "</table>\n",
       "</div>"
      ],
      "text/plain": [
       "      harmnc_avg  lgcnc_avg\n",
       "run                        \n",
       "1.0     0.987075   0.838293\n",
       "2.0     0.958521   0.827773\n",
       "3.0     0.925759   0.806733\n",
       "4.0     0.889991   0.800421\n",
       "5.0     0.852720   0.783889\n",
       "6.0     0.810340   0.758641\n",
       "7.0     0.771867   0.739705\n",
       "8.0     0.712955   0.700631\n",
       "9.0     0.986474   0.834085\n",
       "10.0    0.957319   0.826871"
      ]
     },
     "execution_count": 69,
     "metadata": {},
     "output_type": "execute_result"
    },
    {
     "data": {
      "image/png": "[encoded data removed]",
      "text/plain": [
       "<Figure size 432x288 with 1 Axes>"
      ]
     },
     "metadata": {
      "needs_background": "light"
     },
     "output_type": "display_data"
    }
   ],
   "source": [
    "apply_evaluate(citeseer_graph, save='citeseer.png')"
   ]
  },
  {
   "cell_type": "code",
   "execution_count": 22,
   "metadata": {},
   "outputs": [
    {
     "name": "stderr",
     "output_type": "stream",
     "text": [
      "\n",
      "  0%|          | 0/10 [00:00<?, ?it/s]\u001b[A"
     ]
    },
    {
     "name": "stdout",
     "output_type": "stream",
     "text": [
      "Citeseer\n"
     ]
    },
    {
     "ename": "KeyboardInterrupt",
     "evalue": "",
     "output_type": "error",
     "traceback": [
      "\u001b[0;31m---------------------------------------------------------------------------\u001b[0m",
      "\u001b[0;31mKeyboardInterrupt\u001b[0m                         Traceback (most recent call last)",
      "\u001b[0;32m<ipython-input-22-7346a5fe3aa4>\u001b[0m in \u001b[0;36m<module>\u001b[0;34m\u001b[0m\n\u001b[1;32m      1\u001b[0m \u001b[0;31m# Citeseer\u001b[0m\u001b[0;34m\u001b[0m\u001b[0;34m\u001b[0m\u001b[0;34m\u001b[0m\u001b[0m\n\u001b[1;32m      2\u001b[0m \u001b[0mprint\u001b[0m\u001b[0;34m(\u001b[0m\u001b[0;34m'Citeseer'\u001b[0m\u001b[0;34m)\u001b[0m\u001b[0;34m\u001b[0m\u001b[0;34m\u001b[0m\u001b[0m\n\u001b[0;32m----> 3\u001b[0;31m \u001b[0mapply_evaluate_lp\u001b[0m\u001b[0;34m(\u001b[0m\u001b[0mciteseer_graph\u001b[0m\u001b[0;34m,\u001b[0m \u001b[0msave\u001b[0m\u001b[0;34m=\u001b[0m\u001b[0;34m'citeseer-lp.png'\u001b[0m\u001b[0;34m)\u001b[0m\u001b[0;34m.\u001b[0m\u001b[0mmean\u001b[0m\u001b[0;34m(\u001b[0m\u001b[0;34m)\u001b[0m\u001b[0;34m\u001b[0m\u001b[0;34m\u001b[0m\u001b[0m\n\u001b[0m",
      "\u001b[0;32m<ipython-input-16-ac3560e24246>\u001b[0m in \u001b[0;36mapply_evaluate_lp\u001b[0;34m(graph_, runs, save)\u001b[0m\n\u001b[1;32m     20\u001b[0m         \u001b[0my_true\u001b[0m \u001b[0;34m=\u001b[0m \u001b[0mnp\u001b[0m\u001b[0;34m.\u001b[0m\u001b[0mzeros\u001b[0m\u001b[0;34m(\u001b[0m\u001b[0mlen\u001b[0m\u001b[0;34m(\u001b[0m\u001b[0mrai\u001b[0m\u001b[0;34m)\u001b[0m\u001b[0;34m,\u001b[0m \u001b[0mdtype\u001b[0m\u001b[0;34m=\u001b[0m\u001b[0mnp\u001b[0m\u001b[0;34m.\u001b[0m\u001b[0mint\u001b[0m\u001b[0;34m)\u001b[0m\u001b[0;34m\u001b[0m\u001b[0;34m\u001b[0m\u001b[0m\n\u001b[1;32m     21\u001b[0m         \u001b[0;32mfor\u001b[0m \u001b[0medge\u001b[0m \u001b[0;32min\u001b[0m \u001b[0medges\u001b[0m\u001b[0;34m:\u001b[0m\u001b[0;34m\u001b[0m\u001b[0;34m\u001b[0m\u001b[0m\n\u001b[0;32m---> 22\u001b[0;31m             \u001b[0;32mfor\u001b[0m \u001b[0mi\u001b[0m\u001b[0;34m,\u001b[0m \u001b[0mr\u001b[0m \u001b[0;32min\u001b[0m \u001b[0menumerate\u001b[0m\u001b[0;34m(\u001b[0m\u001b[0mrai\u001b[0m\u001b[0;34m)\u001b[0m\u001b[0;34m:\u001b[0m\u001b[0;34m\u001b[0m\u001b[0;34m\u001b[0m\u001b[0m\n\u001b[0m\u001b[1;32m     23\u001b[0m                 \u001b[0;32mif\u001b[0m \u001b[0medge\u001b[0m\u001b[0;34m[\u001b[0m\u001b[0;36m0\u001b[0m\u001b[0;34m]\u001b[0m \u001b[0;34m==\u001b[0m \u001b[0mr\u001b[0m\u001b[0;34m[\u001b[0m\u001b[0;36m0\u001b[0m\u001b[0;34m]\u001b[0m \u001b[0;32mand\u001b[0m \u001b[0medge\u001b[0m\u001b[0;34m[\u001b[0m\u001b[0;36m1\u001b[0m\u001b[0;34m]\u001b[0m \u001b[0;34m==\u001b[0m \u001b[0mr\u001b[0m\u001b[0;34m[\u001b[0m\u001b[0;36m1\u001b[0m\u001b[0;34m]\u001b[0m \u001b[0;32mor\u001b[0m\u001b[0;31m\\\u001b[0m\u001b[0;34m\u001b[0m\u001b[0;34m\u001b[0m\u001b[0m\n\u001b[1;32m     24\u001b[0m                    \u001b[0medge\u001b[0m\u001b[0;34m[\u001b[0m\u001b[0;36m1\u001b[0m\u001b[0;34m]\u001b[0m \u001b[0;34m==\u001b[0m \u001b[0mr\u001b[0m\u001b[0;34m[\u001b[0m\u001b[0;36m0\u001b[0m\u001b[0;34m]\u001b[0m \u001b[0;32mand\u001b[0m \u001b[0medge\u001b[0m\u001b[0;34m[\u001b[0m\u001b[0;36m0\u001b[0m\u001b[0;34m]\u001b[0m \u001b[0;34m==\u001b[0m \u001b[0mr\u001b[0m\u001b[0;34m[\u001b[0m\u001b[0;36m1\u001b[0m\u001b[0;34m]\u001b[0m\u001b[0;34m:\u001b[0m\u001b[0;34m\u001b[0m\u001b[0;34m\u001b[0m\u001b[0m\n",
      "\u001b[0;31mKeyboardInterrupt\u001b[0m: "
     ]
    }
   ],
   "source": [
    "# Citeseer\n",
    "print('Citeseer')\n",
    "apply_evaluate_lp(citeseer_graph, save='citeseer-lp.png').mean()"
   ]
  },
  {
   "cell_type": "markdown",
   "metadata": {
    "colab_type": "text",
    "id": "8Pj7TGaymER5"
   },
   "source": [
    "### Cora"
   ]
  },
  {
   "cell_type": "code",
   "execution_count": 70,
   "metadata": {
    "colab": {},
    "colab_type": "code",
    "id": "y7JhiKYS1yfA"
   },
   "outputs": [],
   "source": [
    "cora_adj, cora_y_train = load_data('cora')\n",
    "cora_adj = cora_adj.toarray()\n",
    "cora_graph = nx.from_numpy_matrix(cora_adj)"
   ]
  },
  {
   "cell_type": "code",
   "execution_count": 71,
   "metadata": {},
   "outputs": [],
   "source": [
    "cora_nodes = cora_graph.nodes(data=True)\n",
    "for i, y in enumerate(cora_y_train):\n",
    "    cora_nodes[i]['value'] = np.argmax(y)"
   ]
  },
  {
   "cell_type": "code",
   "execution_count": 72,
   "metadata": {},
   "outputs": [
    {
     "data": {
      "text/html": [
       "<div>\n",
       "<style scoped>\n",
       "    .dataframe tbody tr th:only-of-type {\n",
       "        vertical-align: middle;\n",
       "    }\n",
       "\n",
       "    .dataframe tbody tr th {\n",
       "        vertical-align: top;\n",
       "    }\n",
       "\n",
       "    .dataframe thead th {\n",
       "        text-align: right;\n",
       "    }\n",
       "</style>\n",
       "<table border=\"1\" class=\"dataframe\">\n",
       "  <thead>\n",
       "    <tr style=\"text-align: right;\">\n",
       "      <th></th>\n",
       "      <th>harmnc_avg</th>\n",
       "      <th>lgcnc_avg</th>\n",
       "    </tr>\n",
       "    <tr>\n",
       "      <th>run</th>\n",
       "      <th></th>\n",
       "      <th></th>\n",
       "    </tr>\n",
       "  </thead>\n",
       "  <tbody>\n",
       "    <tr>\n",
       "      <td>1.0</td>\n",
       "      <td>0.991507</td>\n",
       "      <td>0.912482</td>\n",
       "    </tr>\n",
       "    <tr>\n",
       "      <td>2.0</td>\n",
       "      <td>0.982275</td>\n",
       "      <td>0.909897</td>\n",
       "    </tr>\n",
       "    <tr>\n",
       "      <td>3.0</td>\n",
       "      <td>0.964549</td>\n",
       "      <td>0.906204</td>\n",
       "    </tr>\n",
       "    <tr>\n",
       "      <td>4.0</td>\n",
       "      <td>0.942024</td>\n",
       "      <td>0.892171</td>\n",
       "    </tr>\n",
       "    <tr>\n",
       "      <td>5.0</td>\n",
       "      <td>0.931315</td>\n",
       "      <td>0.897341</td>\n",
       "    </tr>\n",
       "    <tr>\n",
       "      <td>6.0</td>\n",
       "      <td>0.915436</td>\n",
       "      <td>0.883309</td>\n",
       "    </tr>\n",
       "    <tr>\n",
       "      <td>7.0</td>\n",
       "      <td>0.889956</td>\n",
       "      <td>0.874077</td>\n",
       "    </tr>\n",
       "    <tr>\n",
       "      <td>8.0</td>\n",
       "      <td>0.849335</td>\n",
       "      <td>0.847858</td>\n",
       "    </tr>\n",
       "    <tr>\n",
       "      <td>9.0</td>\n",
       "      <td>0.994092</td>\n",
       "      <td>0.911004</td>\n",
       "    </tr>\n",
       "    <tr>\n",
       "      <td>10.0</td>\n",
       "      <td>0.980059</td>\n",
       "      <td>0.908419</td>\n",
       "    </tr>\n",
       "  </tbody>\n",
       "</table>\n",
       "</div>"
      ],
      "text/plain": [
       "      harmnc_avg  lgcnc_avg\n",
       "run                        \n",
       "1.0     0.991507   0.912482\n",
       "2.0     0.982275   0.909897\n",
       "3.0     0.964549   0.906204\n",
       "4.0     0.942024   0.892171\n",
       "5.0     0.931315   0.897341\n",
       "6.0     0.915436   0.883309\n",
       "7.0     0.889956   0.874077\n",
       "8.0     0.849335   0.847858\n",
       "9.0     0.994092   0.911004\n",
       "10.0    0.980059   0.908419"
      ]
     },
     "execution_count": 72,
     "metadata": {},
     "output_type": "execute_result"
    },
    {
     "data": {
      "image/png": "[encoded data removed]",
      "text/plain": [
       "<Figure size 432x288 with 1 Axes>"
      ]
     },
     "metadata": {
      "needs_background": "light"
     },
     "output_type": "display_data"
    }
   ],
   "source": [
    "apply_evaluate(cora_graph, save='cora.png')"
   ]
  },
  {
   "cell_type": "markdown",
   "metadata": {
    "colab_type": "text",
    "id": "9KlUKWD_mHD0"
   },
   "source": [
    "### Pubmed"
   ]
  },
  {
   "cell_type": "code",
   "execution_count": 28,
   "metadata": {
    "colab": {},
    "colab_type": "code",
    "id": "JD3Blnfi3cCK"
   },
   "outputs": [],
   "source": [
    "pubmed_adj, pubmed_y_train = load_data('pubmed')\n",
    "pubmed_adj = pubmed_adj.toarray()\n",
    "pubmed_graph = nx.from_numpy_matrix(pubmed_adj)"
   ]
  },
  {
   "cell_type": "code",
   "execution_count": 29,
   "metadata": {},
   "outputs": [],
   "source": [
    "pubmed_nodes = pubmed_graph.nodes(data=True)\n",
    "for i, y in enumerate(pubmed_y_train):\n",
    "    pubmed_nodes[i]['value'] = np.argmax(y)"
   ]
  },
  {
   "cell_type": "code",
   "execution_count": 30,
   "metadata": {},
   "outputs": [
    {
     "data": {
      "text/html": [
       "<div>\n",
       "<style scoped>\n",
       "    .dataframe tbody tr th:only-of-type {\n",
       "        vertical-align: middle;\n",
       "    }\n",
       "\n",
       "    .dataframe tbody tr th {\n",
       "        vertical-align: top;\n",
       "    }\n",
       "\n",
       "    .dataframe thead th {\n",
       "        text-align: right;\n",
       "    }\n",
       "</style>\n",
       "<table border=\"1\" class=\"dataframe\">\n",
       "  <thead>\n",
       "    <tr style=\"text-align: right;\">\n",
       "      <th></th>\n",
       "      <th>harmnc_avg</th>\n",
       "      <th>lgcnc_avg</th>\n",
       "    </tr>\n",
       "    <tr>\n",
       "      <th>run</th>\n",
       "      <th></th>\n",
       "      <th></th>\n",
       "    </tr>\n",
       "  </thead>\n",
       "  <tbody>\n",
       "    <tr>\n",
       "      <td>1.0</td>\n",
       "      <td>0.991124</td>\n",
       "      <td>0.856165</td>\n",
       "    </tr>\n",
       "    <tr>\n",
       "      <td>2.0</td>\n",
       "      <td>0.971750</td>\n",
       "      <td>0.854897</td>\n",
       "    </tr>\n",
       "    <tr>\n",
       "      <td>3.0</td>\n",
       "      <td>0.955115</td>\n",
       "      <td>0.852970</td>\n",
       "    </tr>\n",
       "    <tr>\n",
       "      <td>4.0</td>\n",
       "      <td>0.934676</td>\n",
       "      <td>0.853325</td>\n",
       "    </tr>\n",
       "    <tr>\n",
       "      <td>5.0</td>\n",
       "      <td>0.919663</td>\n",
       "      <td>0.855556</td>\n",
       "    </tr>\n",
       "    <tr>\n",
       "      <td>6.0</td>\n",
       "      <td>0.903586</td>\n",
       "      <td>0.852817</td>\n",
       "    </tr>\n",
       "    <tr>\n",
       "      <td>7.0</td>\n",
       "      <td>0.884567</td>\n",
       "      <td>0.851854</td>\n",
       "    </tr>\n",
       "    <tr>\n",
       "      <td>8.0</td>\n",
       "      <td>0.865750</td>\n",
       "      <td>0.844398</td>\n",
       "    </tr>\n",
       "    <tr>\n",
       "      <td>9.0</td>\n",
       "      <td>0.991581</td>\n",
       "      <td>0.855556</td>\n",
       "    </tr>\n",
       "    <tr>\n",
       "      <td>10.0</td>\n",
       "      <td>0.975098</td>\n",
       "      <td>0.856266</td>\n",
       "    </tr>\n",
       "  </tbody>\n",
       "</table>\n",
       "</div>"
      ],
      "text/plain": [
       "      harmnc_avg  lgcnc_avg\n",
       "run                        \n",
       "1.0     0.991124   0.856165\n",
       "2.0     0.971750   0.854897\n",
       "3.0     0.955115   0.852970\n",
       "4.0     0.934676   0.853325\n",
       "5.0     0.919663   0.855556\n",
       "6.0     0.903586   0.852817\n",
       "7.0     0.884567   0.851854\n",
       "8.0     0.865750   0.844398\n",
       "9.0     0.991581   0.855556\n",
       "10.0    0.975098   0.856266"
      ]
     },
     "execution_count": 30,
     "metadata": {},
     "output_type": "execute_result"
    },
    {
     "data": {
      "image/png": "[encoded data removed]",
      "text/plain": [
       "<Figure size 432x288 with 1 Axes>"
      ]
     },
     "metadata": {
      "needs_background": "light"
     },
     "output_type": "display_data"
    }
   ],
   "source": [
    "apply_evaluate(pubmed_graph)"
   ]
  },
  {
   "cell_type": "markdown",
   "metadata": {
    "colab_type": "text",
    "id": "x0102VFQD4g0"
   },
   "source": [
    "## Synthetic"
   ]
  },
  {
   "cell_type": "code",
   "execution_count": 23,
   "metadata": {
    "colab": {},
    "colab_type": "code",
    "id": "MGPLo5NqD-N9"
   },
   "outputs": [],
   "source": [
    "from networkx.algorithms.community.community_generators import LFR_benchmark_graph\n",
    "from sklearn.preprocessing import OneHotEncoder"
   ]
  },
  {
   "cell_type": "code",
   "execution_count": null,
   "metadata": {
    "colab": {},
    "colab_type": "code",
    "id": "Qtx4A_rpEFaV"
   },
   "outputs": [
    {
     "name": "stderr",
     "output_type": "stream",
     "text": [
      "\n",
      "\n",
      "  0%|          | 0/10 [00:00<?, ?it/s]\u001b[A\u001b[A\n",
      "\n",
      " 10%|█         | 1/10 [15:32<2:19:48, 932.09s/it]\u001b[A\u001b[A\n",
      "\n",
      " 20%|██        | 2/10 [31:07<2:04:25, 933.19s/it]\u001b[A\u001b[A\n",
      "\n",
      " 30%|███       | 3/10 [46:46<1:49:04, 934.87s/it]\u001b[A\u001b[A\n",
      "\n",
      " 40%|████      | 4/10 [1:02:16<1:33:20, 933.44s/it]\u001b[A\u001b[A"
     ]
    }
   ],
   "source": [
    "for mu in range(10, 90, 10):\n",
    "    n = 1000 #@param {type:\"slider\", min:1, max:2000}\n",
    "    tau1 = 3 #@param {type:\"slider\", min:1.1, max:10, step:0.01}\n",
    "    tau2 = 1.5 #@param {type:\"slider\", min:1.1, max:10, step:0.01}\n",
    "    average_degree = 10 #@param {type:\"slider\", min:0, max:143}\n",
    "    min_community = 20 #@param {type:\"integer\"}\n",
    "    lfr_graph = LFR_benchmark_graph(n, tau1, tau2, mu / 100,\n",
    "                                    average_degree=average_degree,\n",
    "                                    min_community=min_community)\n",
    "    comms = [n['community'] for _, n in lfr_graph.nodes(data=True)]\n",
    "    lfr_nodes = lfr_graph.nodes(data=True)\n",
    "    for i, y in enumerate(comms):\n",
    "        lfr_nodes[i]['value'] = str(y)\n",
    "    apply_evaluate_lp(lfr_graph, save='lfr-{}-lp.png'.format(mu))"
   ]
  },
  {
   "cell_type": "code",
   "execution_count": 21,
   "metadata": {},
   "outputs": [],
   "source": [
    "comms = [n['community'] for _, n in lfr_graph.nodes(data=True)]\n",
    "lfr_nodes = lfr_graph.nodes(data=True)\n",
    "for i, y in enumerate(comms):\n",
    "    lfr_nodes[i]['value'] = str(y)"
   ]
  },
  {
   "cell_type": "code",
   "execution_count": 20,
   "metadata": {},
   "outputs": [
    {
     "data": {
      "text/plain": [
       "999"
      ]
     },
     "execution_count": 20,
     "metadata": {},
     "output_type": "execute_result"
    }
   ],
   "source": [
    "maximum = max(map(max, comms))\n",
    "for c in comms:\n",
    "    lfr_nodes[c]['value'] = "
   ]
  },
  {
   "cell_type": "code",
   "execution_count": 22,
   "metadata": {},
   "outputs": [
    {
     "data": {
      "text/html": [
       "<div>\n",
       "<style scoped>\n",
       "    .dataframe tbody tr th:only-of-type {\n",
       "        vertical-align: middle;\n",
       "    }\n",
       "\n",
       "    .dataframe tbody tr th {\n",
       "        vertical-align: top;\n",
       "    }\n",
       "\n",
       "    .dataframe thead th {\n",
       "        text-align: right;\n",
       "    }\n",
       "</style>\n",
       "<table border=\"1\" class=\"dataframe\">\n",
       "  <thead>\n",
       "    <tr style=\"text-align: right;\">\n",
       "      <th></th>\n",
       "      <th>harmnc_avg</th>\n",
       "      <th>lgcnc_avg</th>\n",
       "    </tr>\n",
       "    <tr>\n",
       "      <th>run</th>\n",
       "      <th></th>\n",
       "      <th></th>\n",
       "    </tr>\n",
       "  </thead>\n",
       "  <tbody>\n",
       "    <tr>\n",
       "      <td>1.0</td>\n",
       "      <td>1.000</td>\n",
       "      <td>1.000</td>\n",
       "    </tr>\n",
       "    <tr>\n",
       "      <td>2.0</td>\n",
       "      <td>1.000</td>\n",
       "      <td>1.000</td>\n",
       "    </tr>\n",
       "    <tr>\n",
       "      <td>3.0</td>\n",
       "      <td>0.999</td>\n",
       "      <td>0.997</td>\n",
       "    </tr>\n",
       "    <tr>\n",
       "      <td>4.0</td>\n",
       "      <td>1.000</td>\n",
       "      <td>0.999</td>\n",
       "    </tr>\n",
       "    <tr>\n",
       "      <td>5.0</td>\n",
       "      <td>0.998</td>\n",
       "      <td>0.994</td>\n",
       "    </tr>\n",
       "    <tr>\n",
       "      <td>6.0</td>\n",
       "      <td>0.999</td>\n",
       "      <td>0.995</td>\n",
       "    </tr>\n",
       "    <tr>\n",
       "      <td>7.0</td>\n",
       "      <td>0.997</td>\n",
       "      <td>0.989</td>\n",
       "    </tr>\n",
       "    <tr>\n",
       "      <td>8.0</td>\n",
       "      <td>0.993</td>\n",
       "      <td>0.956</td>\n",
       "    </tr>\n",
       "    <tr>\n",
       "      <td>9.0</td>\n",
       "      <td>1.000</td>\n",
       "      <td>1.000</td>\n",
       "    </tr>\n",
       "    <tr>\n",
       "      <td>10.0</td>\n",
       "      <td>1.000</td>\n",
       "      <td>0.999</td>\n",
       "    </tr>\n",
       "  </tbody>\n",
       "</table>\n",
       "</div>"
      ],
      "text/plain": [
       "      harmnc_avg  lgcnc_avg\n",
       "run                        \n",
       "1.0        1.000      1.000\n",
       "2.0        1.000      1.000\n",
       "3.0        0.999      0.997\n",
       "4.0        1.000      0.999\n",
       "5.0        0.998      0.994\n",
       "6.0        0.999      0.995\n",
       "7.0        0.997      0.989\n",
       "8.0        0.993      0.956\n",
       "9.0        1.000      1.000\n",
       "10.0       1.000      0.999"
      ]
     },
     "execution_count": 22,
     "metadata": {},
     "output_type": "execute_result"
    },
    {
     "data": {
      "image/png": "[encoded data removed]",
      "text/plain": [
       "<Figure size 432x288 with 1 Axes>"
      ]
     },
     "metadata": {
      "needs_background": "light"
     },
     "output_type": "display_data"
    }
   ],
   "source": [
    "apply_evaluate(lfr_graph, save='lfr-{}.png'.format(mu))"
   ]
  },
  {
   "cell_type": "code",
   "execution_count": 34,
   "metadata": {
    "colab": {
     "base_uri": "https://localhost:8080/",
     "height": 319
    },
    "colab_type": "code",
    "id": "A6OgQGK5FqkY",
    "outputId": "e151b7ae-03d1-4ce6-c345-016ca6de8e89"
   },
   "outputs": [
    {
     "data": {
      "image/png": "[encoded data removed]",
      "text/plain": [
       "<Figure size 432x288 with 1 Axes>"
      ]
     },
     "metadata": {
      "tags": []
     },
     "output_type": "display_data"
    }
   ],
   "source": [
    "\n",
    "#nx.write_graphml(lfr_graph, 'lfr_graph.graphml')\n",
    "#lfr_graph = nx.read_gml('lfr_graph.graphml')\n",
    "#lfr_igraph = ig.read('lfr_graph.graphml', format='graphml')\n",
    "lfr_adj = nx.adjacency_matrix(lfr_graph).toarray()\n",
    "lfr_igraph = ig.Graph.Adjacency((lfr_adj > 0).tolist())\n",
    "\n",
    "nx.draw(lfr_graph)\n",
    "plt.show()"
   ]
  }
 ],
 "metadata": {
  "accelerator": "GPU",
  "colab": {
   "collapsed_sections": [
    "bW1X8L9LjHOG",
    "b22GpvrUJaLH",
    "4sRIM5hRNR-n",
    "ao5Qzz0TNDQp",
    "UxSB5JCBQIjh",
    "WbClbD0MGIrM",
    "jCkV6IVFJLvY",
    "rO-m5NE_JvS3",
    "8zmtEggKON2t",
    "x0102VFQD4g0"
   ],
   "include_colab_link": true,
   "machine_shape": "hm",
   "name": "Assign2NSAlbertOrozcoCamacho.ipynb",
   "provenance": [],
   "toc_visible": true
  },
  "kernelspec": {
   "display_name": "nscenv",
   "language": "python",
   "name": "nscenv"
  },
  "language_info": {
   "codemirror_mode": {
    "name": "ipython",
    "version": 3
   },
   "file_extension": ".py",
   "mimetype": "text/x-python",
   "name": "python",
   "nbconvert_exporter": "python",
   "pygments_lexer": "ipython3",
   "version": "3.7.4"
  }
 },
 "nbformat": 4,
 "nbformat_minor": 4
}
